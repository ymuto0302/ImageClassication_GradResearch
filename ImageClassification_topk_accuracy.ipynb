{
 "cells": [
  {
   "cell_type": "markdown",
   "id": "0d18d970",
   "metadata": {},
   "source": [
    "# torch.topk の動作チェック"
   ]
  },
  {
   "cell_type": "code",
   "execution_count": 4,
   "id": "fc96f606",
   "metadata": {},
   "outputs": [
    {
     "name": "stdout",
     "output_type": "stream",
     "text": [
      "tensor([0.3000, 0.2000, 0.1500])\n",
      "tensor([1, 2, 7])\n"
     ]
    }
   ],
   "source": [
    "import torch\n",
    "\n",
    "pred = torch.tensor([0.05, 0.3, 0.2, 0.1, 0.05, 0.1, 0.05, 0.15])\n",
    "values, indicies = torch.topk(pred, k=3)\n",
    "print(values)\n",
    "print(indicies)"
   ]
  },
  {
   "cell_type": "code",
   "execution_count": 9,
   "id": "f8bb6f73",
   "metadata": {},
   "outputs": [
    {
     "data": {
      "text/plain": [
       "[tensor([66.6667]), tensor([100.])]"
      ]
     },
     "execution_count": 9,
     "metadata": {},
     "output_type": "execute_result"
    }
   ],
   "source": [
    "# (2022.11.14メモ) top-k の正解率を求める\n",
    "# https://github.com/pytorch/examples/blob/main/imagenet/main.py\n",
    "# 上記のページの解説：https://zenn.dev/nnabeyang/articles/8b643ca99ddab2a568e0\n",
    "def accuracy(output, target, topk=(1,)):\n",
    "    \"\"\"Computes the accuracy over the k top predictions for the specified values of k\"\"\"\n",
    "    with torch.no_grad():\n",
    "        maxk = max(topk)\n",
    "        batch_size = target.size(0)\n",
    "\n",
    "        _, pred = output.topk(maxk, 1, True, True)\n",
    "        pred = pred.t()\n",
    "        correct = pred.eq(target.view(1, -1).expand_as(pred))\n",
    "\n",
    "        res = []\n",
    "        for k in topk:\n",
    "            correct_k = correct[:k].reshape(-1).float().sum(0, keepdim=True)\n",
    "            res.append(correct_k.mul_(100.0 / batch_size))\n",
    "        return res\n",
    "\n",
    "# バッチサイズ 3，クラス数 8 を想定\n",
    "pred = torch.tensor([[0.05, 0.3, 0.2, 0.1, 0.05, 0.1, 0.05, 0.15],\n",
    "                     [0.05, 0.2, 0.2, 0.1, 0.35, 0.1, 0.05, 0.15],\n",
    "                     [0.05, 0.05, 0.2, 0.05, 0.05, 0.1, 0.05, 0.45]])\n",
    "\n",
    "target = torch.tensor([1, 2, 7])\n",
    "\n",
    "accuracy(pred, target, topk=(1,5))"
   ]
  },
  {
   "cell_type": "code",
   "execution_count": null,
   "id": "3d7f10d2",
   "metadata": {},
   "outputs": [],
   "source": []
  }
 ],
 "metadata": {
  "kernelspec": {
   "display_name": "Python 3",
   "language": "python",
   "name": "python3"
  },
  "language_info": {
   "codemirror_mode": {
    "name": "ipython",
    "version": 3
   },
   "file_extension": ".py",
   "mimetype": "text/x-python",
   "name": "python",
   "nbconvert_exporter": "python",
   "pygments_lexer": "ipython3",
   "version": "3.9.4"
  }
 },
 "nbformat": 4,
 "nbformat_minor": 5
}
