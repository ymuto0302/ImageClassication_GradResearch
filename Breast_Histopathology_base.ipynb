{
 "cells": [
  {
   "cell_type": "markdown",
   "metadata": {},
   "source": [
    "# 小林由依さんの卒研：乳がんを細胞画像から判定\n",
    "データセット：Breast Histopathology Images  \n",
    "https://www.kaggle.com/datasets/paultimothymooney/breast-histopathology-images\n"
   ]
  },
  {
   "cell_type": "code",
   "execution_count": 1,
   "metadata": {},
   "outputs": [
    {
     "name": "stdout",
     "output_type": "stream",
     "text": [
      "279\n"
     ]
    }
   ],
   "source": [
    "# 分類対象となる患者 ID を取得する\n",
    "# (メモ) オリジナルデータのディレクトリが存在するため，これを除去するのが目的\n",
    "# (ため息) ディスク上のデータを削除すれば早いだろうけど・・・\n",
    "import glob\n",
    "original_paths = glob.glob('BreastCancer/*')\n",
    "target_paths = []\n",
    "for path in original_paths:\n",
    "    patient_id = path.split('/')[1]\n",
    "    if patient_id.isnumeric():\n",
    "        target_paths.append(path)\n",
    "        \n",
    "print(len(target_paths))"
   ]
  },
  {
   "cell_type": "code",
   "execution_count": 2,
   "metadata": {
    "scrolled": true
   },
   "outputs": [
    {
     "name": "stdout",
     "output_type": "stream",
     "text": [
      "BreastCancer/12878: neg:1289, pos:185\n",
      "BreastCancer/14213: neg:169, pos:253\n",
      "BreastCancer/10279: neg:1267, pos:427\n",
      "BreastCancer/12951: neg:808, pos:330\n",
      "BreastCancer/14079: neg:435, pos:455\n",
      "BreastCancer/12931: neg:477, pos:130\n",
      "BreastCancer/9324: neg:720, pos:322\n",
      "BreastCancer/16896: neg:1017, pos:110\n",
      "BreastCancer/13023: neg:112, pos:115\n",
      "BreastCancer/13688: neg:215, pos:127\n",
      "BreastCancer/9325: neg:1060, pos:68\n",
      "BreastCancer/8959: neg:152, pos:204\n",
      "BreastCancer/9225: neg:1454, pos:89\n",
      "BreastCancer/12896: neg:424, pos:83\n",
      "BreastCancer/14188: neg:586, pos:123\n",
      "BreastCancer/10253: neg:479, pos:70\n",
      "BreastCancer/9346: neg:634, pos:727\n",
      "BreastCancer/9291: neg:733, pos:96\n",
      "BreastCancer/9261: neg:521, pos:446\n",
      "BreastCancer/14210: neg:469, pos:104\n",
      "BreastCancer/12883: neg:276, pos:73\n",
      "BreastCancer/12817: neg:362, pos:572\n",
      "BreastCancer/10304: neg:779, pos:101\n",
      "BreastCancer/16568: neg:545, pos:283\n",
      "BreastCancer/9226: neg:817, pos:421\n",
      "BreastCancer/15632: neg:373, pos:120\n",
      "BreastCancer/12875: neg:331, pos:43\n",
      "BreastCancer/10291: neg:999, pos:213\n",
      "BreastCancer/10264: neg:617, pos:587\n",
      "BreastCancer/9023: neg:583, pos:288\n",
      "BreastCancer/12823: neg:556, pos:447\n",
      "BreastCancer/12749: neg:1199, pos:563\n",
      "BreastCancer/9175: neg:108, pos:10\n",
      "BreastCancer/10275: neg:297, pos:760\n",
      "BreastCancer/14305: neg:714, pos:272\n",
      "BreastCancer/10282: neg:1835, pos:198\n",
      "BreastCancer/10273: neg:811, pos:1211\n",
      "BreastCancer/10286: neg:458, pos:162\n",
      "BreastCancer/9250: neg:636, pos:515\n",
      "BreastCancer/9044: neg:112, pos:46\n",
      "BreastCancer/13693: neg:1935, pos:460\n",
      "BreastCancer/12934: neg:1500, pos:504\n",
      "BreastCancer/8917: neg:578, pos:397\n",
      "BreastCancer/15514: neg:197, pos:441\n",
      "BreastCancer/9319: neg:385, pos:31\n",
      "BreastCancer/9176: neg:636, pos:409\n",
      "BreastCancer/10288: neg:2231, pos:47\n",
      "BreastCancer/16532: neg:339, pos:128\n",
      "BreastCancer/10305: neg:1802, pos:19\n",
      "BreastCancer/13694: neg:360, pos:870\n",
      "BreastCancer/16165: neg:937, pos:1174\n",
      "BreastCancer/12892: neg:133, pos:93\n",
      "BreastCancer/9029: neg:1497, pos:137\n",
      "BreastCancer/9075: neg:1420, pos:361\n",
      "BreastCancer/12933: neg:125, pos:30\n",
      "BreastCancer/8956: neg:1485, pos:340\n",
      "BreastCancer/12893: neg:216, pos:482\n",
      "BreastCancer/9383: neg:494, pos:70\n",
      "BreastCancer/15903: neg:418, pos:621\n",
      "BreastCancer/10306: neg:751, pos:273\n",
      "BreastCancer/9083: neg:373, pos:198\n",
      "BreastCancer/10259: neg:1434, pos:31\n",
      "BreastCancer/12880: neg:788, pos:1147\n",
      "BreastCancer/16167: neg:96, pos:96\n",
      "BreastCancer/9076: neg:832, pos:159\n",
      "BreastCancer/15839: neg:105, pos:134\n",
      "BreastCancer/13400: neg:1299, pos:64\n",
      "BreastCancer/8955: neg:314, pos:181\n",
      "BreastCancer/12909: neg:283, pos:514\n",
      "BreastCancer/10269: neg:904, pos:250\n",
      "BreastCancer/13459: neg:802, pos:224\n",
      "BreastCancer/9290: neg:1368, pos:174\n",
      "BreastCancer/12929: neg:90, pos:70\n",
      "BreastCancer/13666: neg:377, pos:30\n",
      "BreastCancer/12895: neg:939, pos:741\n",
      "BreastCancer/10285: neg:1011, pos:222\n",
      "BreastCancer/12826: neg:963, pos:174\n",
      "BreastCancer/8864: neg:805, pos:328\n",
      "BreastCancer/14212: neg:167, pos:44\n",
      "BreastCancer/9256: neg:489, pos:442\n",
      "BreastCancer/12906: neg:816, pos:887\n",
      "BreastCancer/12873: neg:49, pos:232\n",
      "BreastCancer/9135: neg:604, pos:111\n",
      "BreastCancer/9262: neg:14, pos:80\n",
      "BreastCancer/13687: neg:303, pos:151\n",
      "BreastCancer/10276: neg:591, pos:348\n",
      "BreastCancer/12901: neg:578, pos:230\n",
      "BreastCancer/10262: neg:1053, pos:754\n",
      "BreastCancer/14192: neg:837, pos:195\n",
      "BreastCancer/12907: neg:546, pos:504\n",
      "BreastCancer/12748: neg:168, pos:198\n",
      "BreastCancer/13617: neg:299, pos:56\n",
      "BreastCancer/8980: neg:487, pos:209\n",
      "BreastCancer/12242: neg:668, pos:429\n",
      "BreastCancer/13462: neg:1028, pos:726\n",
      "BreastCancer/16550: neg:2115, pos:187\n",
      "BreastCancer/13591: neg:907, pos:128\n",
      "BreastCancer/10308: neg:1383, pos:895\n",
      "BreastCancer/12949: neg:344, pos:464\n",
      "BreastCancer/12872: neg:711, pos:69\n",
      "BreastCancer/10274: neg:659, pos:219\n",
      "BreastCancer/15840: neg:862, pos:244\n",
      "BreastCancer/12821: neg:1066, pos:319\n",
      "BreastCancer/8951: neg:433, pos:180\n",
      "BreastCancer/12752: neg:464, pos:635\n",
      "BreastCancer/9347: neg:359, pos:51\n",
      "BreastCancer/12811: neg:125, pos:126\n",
      "BreastCancer/15902: neg:706, pos:461\n",
      "BreastCancer/10256: neg:351, pos:117\n",
      "BreastCancer/13689: neg:510, pos:76\n",
      "BreastCancer/14155: neg:671, pos:1206\n",
      "BreastCancer/10301: neg:1074, pos:342\n",
      "BreastCancer/13692: neg:272, pos:335\n",
      "BreastCancer/9123: neg:1427, pos:161\n",
      "BreastCancer/15473: neg:553, pos:885\n",
      "BreastCancer/16555: neg:315, pos:85\n",
      "BreastCancer/12868: neg:500, pos:361\n",
      "BreastCancer/12877: neg:272, pos:33\n",
      "BreastCancer/15512: neg:79, pos:143\n",
      "BreastCancer/14189: neg:581, pos:421\n",
      "BreastCancer/14191: neg:723, pos:617\n",
      "BreastCancer/10260: neg:928, pos:361\n",
      "BreastCancer/14321: neg:426, pos:195\n",
      "BreastCancer/12884: neg:533, pos:236\n",
      "BreastCancer/13021: neg:1089, pos:108\n",
      "BreastCancer/9041: neg:857, pos:178\n",
      "BreastCancer/12751: neg:849, pos:967\n",
      "BreastCancer/12897: neg:565, pos:296\n",
      "BreastCancer/9036: neg:1276, pos:30\n",
      "BreastCancer/9265: neg:1636, pos:41\n",
      "BreastCancer/12955: neg:809, pos:253\n",
      "BreastCancer/15510: neg:705, pos:356\n",
      "BreastCancer/9258: neg:264, pos:334\n",
      "BreastCancer/16534: neg:21, pos:42\n",
      "BreastCancer/12947: neg:378, pos:452\n",
      "BreastCancer/12881: neg:115, pos:158\n",
      "BreastCancer/9081: neg:681, pos:180\n",
      "BreastCancer/8863: neg:772, pos:207\n",
      "BreastCancer/9124: neg:175, pos:290\n",
      "BreastCancer/15515: neg:1051, pos:111\n",
      "BreastCancer/8916: neg:60, pos:111\n",
      "BreastCancer/10261: neg:590, pos:56\n",
      "BreastCancer/12900: neg:573, pos:450\n",
      "BreastCancer/12948: neg:80, pos:87\n",
      "BreastCancer/12241: neg:37, pos:115\n",
      "BreastCancer/9174: neg:190, pos:29\n",
      "BreastCancer/16895: neg:115, pos:36\n",
      "BreastCancer/14154: neg:691, pos:829\n",
      "BreastCancer/13458: neg:394, pos:49\n",
      "BreastCancer/15634: neg:439, pos:370\n",
      "BreastCancer/9022: neg:418, pos:99\n",
      "BreastCancer/16553: neg:327, pos:353\n",
      "BreastCancer/14082: neg:281, pos:197\n",
      "BreastCancer/13403: neg:201, pos:111\n",
      "BreastCancer/9178: neg:1283, pos:160\n",
      "BreastCancer/13106: neg:979, pos:155\n",
      "BreastCancer/13401: neg:323, pos:244\n",
      "BreastCancer/16552: neg:150, pos:37\n",
      "BreastCancer/9078: neg:1602, pos:186\n",
      "BreastCancer/9322: neg:1295, pos:167\n",
      "BreastCancer/12882: neg:238, pos:154\n",
      "BreastCancer/10257: neg:427, pos:208\n",
      "BreastCancer/13025: neg:465, pos:296\n",
      "BreastCancer/9321: neg:282, pos:30\n",
      "BreastCancer/13024: neg:624, pos:186\n",
      "BreastCancer/10299: neg:759, pos:1347\n",
      "BreastCancer/13404: neg:379, pos:178\n",
      "BreastCancer/14157: neg:990, pos:488\n",
      "BreastCancer/10307: neg:915, pos:80\n",
      "BreastCancer/12824: neg:597, pos:110\n",
      "BreastCancer/10255: neg:181, pos:91\n",
      "BreastCancer/9073: neg:771, pos:63\n",
      "BreastCancer/14306: neg:264, pos:167\n",
      "BreastCancer/12935: neg:611, pos:615\n",
      "BreastCancer/10293: neg:649, pos:221\n",
      "BreastCancer/12867: neg:851, pos:575\n",
      "BreastCancer/8957: neg:28, pos:83\n",
      "BreastCancer/12820: neg:753, pos:369\n",
      "BreastCancer/8913: neg:873, pos:82\n",
      "BreastCancer/14211: neg:1287, pos:809\n",
      "BreastCancer/9228: neg:412, pos:71\n",
      "BreastCancer/12870: neg:788, pos:41\n",
      "BreastCancer/9345: neg:554, pos:631\n",
      "BreastCancer/9323: neg:1938, pos:278\n",
      "BreastCancer/9173: neg:1020, pos:485\n",
      "BreastCancer/10295: neg:761, pos:134\n",
      "BreastCancer/16085: neg:1913, pos:24\n",
      "BreastCancer/13461: neg:594, pos:70\n",
      "BreastCancer/14209: neg:33, pos:309\n",
      "BreastCancer/12910: neg:1496, pos:222\n",
      "BreastCancer/16014: neg:497, pos:209\n",
      "BreastCancer/8950: neg:420, pos:190\n",
      "BreastCancer/9125: neg:369, pos:239\n",
      "BreastCancer/12908: neg:778, pos:262\n",
      "BreastCancer/12876: neg:50, pos:105\n",
      "BreastCancer/16531: neg:191, pos:58\n",
      "BreastCancer/10300: neg:1464, pos:29\n",
      "BreastCancer/10268: neg:2086, pos:23\n",
      "BreastCancer/8867: neg:1480, pos:162\n",
      "BreastCancer/9259: neg:1174, pos:225\n",
      "BreastCancer/9381: neg:1198, pos:128\n",
      "BreastCancer/10278: neg:1068, pos:91\n",
      "BreastCancer/12750: neg:1413, pos:21\n",
      "BreastCancer/13916: neg:1268, pos:365\n",
      "BreastCancer/13616: neg:656, pos:701\n",
      "BreastCancer/16569: neg:302, pos:35\n",
      "BreastCancer/12905: neg:1193, pos:21\n",
      "BreastCancer/13460: neg:623, pos:46\n",
      "BreastCancer/9037: neg:924, pos:188\n",
      "BreastCancer/9177: neg:842, pos:261\n",
      "BreastCancer/15516: neg:1016, pos:275\n",
      "BreastCancer/12822: neg:490, pos:271\n",
      "BreastCancer/12810: neg:914, pos:252\n",
      "BreastCancer/16570: neg:375, pos:542\n",
      "BreastCancer/10254: neg:772, pos:76\n",
      "BreastCancer/12869: neg:778, pos:18\n",
      "BreastCancer/9077: neg:360, pos:1263\n",
      "BreastCancer/12891: neg:442, pos:172\n",
      "BreastCancer/9267: neg:337, pos:321\n",
      "BreastCancer/9181: neg:915, pos:161\n",
      "BreastCancer/12930: neg:835, pos:165\n",
      "BreastCancer/13018: neg:175, pos:128\n",
      "BreastCancer/8974: neg:1372, pos:369\n",
      "BreastCancer/10277: neg:785, pos:170\n",
      "BreastCancer/9254: neg:999, pos:173\n"
     ]
    },
    {
     "name": "stdout",
     "output_type": "stream",
     "text": [
      "BreastCancer/13613: neg:827, pos:630\n",
      "BreastCancer/8975: neg:1379, pos:833\n",
      "BreastCancer/16551: neg:1899, pos:284\n",
      "BreastCancer/12954: neg:1945, pos:64\n",
      "BreastCancer/9035: neg:185, pos:51\n",
      "BreastCancer/12898: neg:372, pos:208\n",
      "BreastCancer/9382: neg:1306, pos:346\n",
      "BreastCancer/14304: neg:410, pos:432\n",
      "BreastCancer/10290: neg:1891, pos:140\n",
      "BreastCancer/12890: neg:1313, pos:158\n",
      "BreastCancer/14153: neg:579, pos:210\n",
      "BreastCancer/16554: neg:269, pos:448\n",
      "BreastCancer/9344: neg:225, pos:310\n",
      "BreastCancer/14081: neg:117, pos:209\n",
      "BreastCancer/12818: neg:666, pos:945\n",
      "BreastCancer/12886: neg:240, pos:287\n",
      "BreastCancer/15471: neg:448, pos:86\n",
      "BreastCancer/8914: neg:978, pos:75\n",
      "BreastCancer/13019: neg:1069, pos:441\n",
      "BreastCancer/13020: neg:336, pos:50\n",
      "BreastCancer/16533: neg:240, pos:127\n",
      "BreastCancer/12911: neg:1041, pos:201\n",
      "BreastCancer/9126: neg:1147, pos:447\n",
      "BreastCancer/12626: neg:1088, pos:254\n",
      "BreastCancer/14156: neg:1201, pos:197\n",
      "BreastCancer/14078: neg:100, pos:121\n",
      "BreastCancer/9255: neg:838, pos:388\n",
      "BreastCancer/15472: neg:1490, pos:214\n",
      "BreastCancer/9266: neg:1119, pos:52\n",
      "BreastCancer/9227: neg:687, pos:127\n",
      "BreastCancer/13402: neg:292, pos:519\n",
      "BreastCancer/15513: neg:815, pos:54\n",
      "BreastCancer/12932: neg:433, pos:304\n",
      "BreastCancer/9257: neg:1001, pos:201\n",
      "BreastCancer/13691: neg:927, pos:264\n",
      "BreastCancer/12871: neg:146, pos:36\n",
      "BreastCancer/12879: neg:272, pos:144\n",
      "BreastCancer/9320: neg:1453, pos:451\n",
      "BreastCancer/12819: neg:1404, pos:223\n",
      "BreastCancer/12894: neg:1066, pos:650\n",
      "BreastCancer/9260: neg:236, pos:126\n",
      "BreastCancer/8984: neg:962, pos:156\n",
      "BreastCancer/10272: neg:2150, pos:25\n",
      "BreastCancer/8918: neg:1421, pos:120\n",
      "BreastCancer/10302: neg:598, pos:1309\n",
      "BreastCancer/10258: neg:422, pos:108\n",
      "BreastCancer/9043: neg:276, pos:560\n",
      "BreastCancer/10303: neg:579, pos:773\n",
      "BreastCancer/15633: neg:114, pos:337\n",
      "BreastCancer/13022: neg:1056, pos:286\n",
      "BreastCancer/16166: neg:615, pos:675\n",
      "BreastCancer/14190: neg:458, pos:491\n",
      "BreastCancer/8865: neg:657, pos:55\n",
      "BreastCancer/10292: neg:998, pos:487\n",
      "==================\n",
      "total: neg:198738, pos:78786\n"
     ]
    }
   ],
   "source": [
    "# (参考) 各患者について pos / neg の細胞画像数を数える\n",
    "neg_total = 0\n",
    "pos_total = 0\n",
    "for path in target_paths:\n",
    "    idc_negative = len(glob.glob(path + '/0/*'))\n",
    "    idc_positive = len(glob.glob(path + '/1/*'))\n",
    "    neg_total += idc_negative\n",
    "    pos_total += idc_positive\n",
    "    print(\"{}: neg:{}, pos:{}\".format(path, idc_negative, idc_positive))\n",
    "    \n",
    "print(\"==================\")\n",
    "print(\"total: neg:{}, pos:{}\".format(neg_total, pos_total))"
   ]
  },
  {
   "cell_type": "markdown",
   "metadata": {},
   "source": [
    "(メモ) negative / positive sample 数は，Kaggle のページにある説明と同じ数値となる。\n",
    "```\n",
    "total: neg:198738, pos:78786\n",
    "```"
   ]
  },
  {
   "cell_type": "code",
   "execution_count": 2,
   "metadata": {},
   "outputs": [
    {
     "name": "stdout",
     "output_type": "stream",
     "text": [
      "277524\n",
      "277524\n"
     ]
    }
   ],
   "source": [
    "# データセットを作る\n",
    "X = []\n",
    "y = []\n",
    "for path in target_paths:\n",
    "    neg_paths = glob.glob(path + '/0/*')\n",
    "    pos_paths = glob.glob(path + '/1/*')\n",
    "    \n",
    "    X += neg_paths\n",
    "    y += [0]*len(neg_paths)\n",
    "\n",
    "    X += pos_paths\n",
    "    y += [1]*len(pos_paths)\n",
    "\n",
    "print(len(X))\n",
    "print(len(y))"
   ]
  },
  {
   "cell_type": "code",
   "execution_count": 7,
   "metadata": {},
   "outputs": [
    {
     "name": "stdout",
     "output_type": "stream",
     "text": [
      "Format: PNG\n",
      "Mode: RGB\n",
      "Size: (50, 50)\n"
     ]
    }
   ],
   "source": [
    "# 画像を１枚，表示してみる\n",
    "from PIL import Image\n",
    "\n",
    "#image_parent_dir = \"Oxford/images/\"\n",
    "#path = image_parent_dir + df['Image'].iloc[0] + \".jpg\"\n",
    "\n",
    "im = Image.open(X[123])\n",
    "print(\"Format:\", im.format)\n",
    "print(\"Mode:\", im.mode)\n",
    "print(\"Size:\", im.size)\n",
    "\n",
    "im.show()"
   ]
  },
  {
   "cell_type": "code",
   "execution_count": 8,
   "metadata": {
    "scrolled": true
   },
   "outputs": [
    {
     "ename": "KeyboardInterrupt",
     "evalue": "",
     "output_type": "error",
     "traceback": [
      "\u001b[0;31m---------------------------------------------------------------------------\u001b[0m",
      "\u001b[0;31mKeyboardInterrupt\u001b[0m                         Traceback (most recent call last)",
      "\u001b[0;32m<ipython-input-8-3100738f843b>\u001b[0m in \u001b[0;36m<module>\u001b[0;34m\u001b[0m\n\u001b[1;32m      4\u001b[0m \u001b[0mimage_sizes\u001b[0m \u001b[0;34m=\u001b[0m \u001b[0mlist\u001b[0m\u001b[0;34m(\u001b[0m\u001b[0;34m)\u001b[0m\u001b[0;34m\u001b[0m\u001b[0;34m\u001b[0m\u001b[0m\n\u001b[1;32m      5\u001b[0m \u001b[0;32mfor\u001b[0m \u001b[0mpath\u001b[0m \u001b[0;32min\u001b[0m \u001b[0mX\u001b[0m\u001b[0;34m:\u001b[0m\u001b[0;34m\u001b[0m\u001b[0;34m\u001b[0m\u001b[0m\n\u001b[0;32m----> 6\u001b[0;31m     \u001b[0mim\u001b[0m \u001b[0;34m=\u001b[0m \u001b[0mImage\u001b[0m\u001b[0;34m.\u001b[0m\u001b[0mopen\u001b[0m\u001b[0;34m(\u001b[0m\u001b[0mpath\u001b[0m\u001b[0;34m)\u001b[0m\u001b[0;34m\u001b[0m\u001b[0;34m\u001b[0m\u001b[0m\n\u001b[0m\u001b[1;32m      7\u001b[0m     \u001b[0mimage_sizes\u001b[0m\u001b[0;34m.\u001b[0m\u001b[0mappend\u001b[0m\u001b[0;34m(\u001b[0m\u001b[0mim\u001b[0m\u001b[0;34m.\u001b[0m\u001b[0msize\u001b[0m\u001b[0;34m)\u001b[0m\u001b[0;34m\u001b[0m\u001b[0;34m\u001b[0m\u001b[0m\n\u001b[1;32m      8\u001b[0m     \u001b[0mim\u001b[0m\u001b[0;34m.\u001b[0m\u001b[0mclose\u001b[0m\u001b[0;34m(\u001b[0m\u001b[0;34m)\u001b[0m\u001b[0;34m\u001b[0m\u001b[0;34m\u001b[0m\u001b[0m\n",
      "\u001b[0;32m~/anaconda3/envs/py36/lib/python3.6/site-packages/PIL/Image.py\u001b[0m in \u001b[0;36mopen\u001b[0;34m(fp, mode)\u001b[0m\n\u001b[1;32m   2914\u001b[0m         \u001b[0;32mreturn\u001b[0m \u001b[0;32mNone\u001b[0m\u001b[0;34m\u001b[0m\u001b[0;34m\u001b[0m\u001b[0m\n\u001b[1;32m   2915\u001b[0m \u001b[0;34m\u001b[0m\u001b[0m\n\u001b[0;32m-> 2916\u001b[0;31m     \u001b[0mim\u001b[0m \u001b[0;34m=\u001b[0m \u001b[0m_open_core\u001b[0m\u001b[0;34m(\u001b[0m\u001b[0mfp\u001b[0m\u001b[0;34m,\u001b[0m \u001b[0mfilename\u001b[0m\u001b[0;34m,\u001b[0m \u001b[0mprefix\u001b[0m\u001b[0;34m)\u001b[0m\u001b[0;34m\u001b[0m\u001b[0;34m\u001b[0m\u001b[0m\n\u001b[0m\u001b[1;32m   2917\u001b[0m \u001b[0;34m\u001b[0m\u001b[0m\n\u001b[1;32m   2918\u001b[0m     \u001b[0;32mif\u001b[0m \u001b[0mim\u001b[0m \u001b[0;32mis\u001b[0m \u001b[0;32mNone\u001b[0m\u001b[0;34m:\u001b[0m\u001b[0;34m\u001b[0m\u001b[0;34m\u001b[0m\u001b[0m\n",
      "\u001b[0;32m~/anaconda3/envs/py36/lib/python3.6/site-packages/PIL/Image.py\u001b[0m in \u001b[0;36m_open_core\u001b[0;34m(fp, filename, prefix)\u001b[0m\n\u001b[1;32m   2899\u001b[0m                     \u001b[0maccept_warnings\u001b[0m\u001b[0;34m.\u001b[0m\u001b[0mappend\u001b[0m\u001b[0;34m(\u001b[0m\u001b[0mresult\u001b[0m\u001b[0;34m)\u001b[0m\u001b[0;34m\u001b[0m\u001b[0;34m\u001b[0m\u001b[0m\n\u001b[1;32m   2900\u001b[0m                 \u001b[0;32melif\u001b[0m \u001b[0mresult\u001b[0m\u001b[0;34m:\u001b[0m\u001b[0;34m\u001b[0m\u001b[0;34m\u001b[0m\u001b[0m\n\u001b[0;32m-> 2901\u001b[0;31m                     \u001b[0mfp\u001b[0m\u001b[0;34m.\u001b[0m\u001b[0mseek\u001b[0m\u001b[0;34m(\u001b[0m\u001b[0;36m0\u001b[0m\u001b[0;34m)\u001b[0m\u001b[0;34m\u001b[0m\u001b[0;34m\u001b[0m\u001b[0m\n\u001b[0m\u001b[1;32m   2902\u001b[0m                     \u001b[0mim\u001b[0m \u001b[0;34m=\u001b[0m \u001b[0mfactory\u001b[0m\u001b[0;34m(\u001b[0m\u001b[0mfp\u001b[0m\u001b[0;34m,\u001b[0m \u001b[0mfilename\u001b[0m\u001b[0;34m)\u001b[0m\u001b[0;34m\u001b[0m\u001b[0;34m\u001b[0m\u001b[0m\n\u001b[1;32m   2903\u001b[0m                     \u001b[0m_decompression_bomb_check\u001b[0m\u001b[0;34m(\u001b[0m\u001b[0mim\u001b[0m\u001b[0;34m.\u001b[0m\u001b[0msize\u001b[0m\u001b[0;34m)\u001b[0m\u001b[0;34m\u001b[0m\u001b[0;34m\u001b[0m\u001b[0m\n",
      "\u001b[0;31mKeyboardInterrupt\u001b[0m: "
     ]
    }
   ],
   "source": [
    "# 全画像サイズのチェック → 画像数が多すぎてチェックにかなりの時間を要するから動かさない方がよい\n",
    "from PIL import Image\n",
    "\n",
    "image_sizes = list()\n",
    "for path in X:\n",
    "    im = Image.open(path)\n",
    "    image_sizes.append(im.size)\n",
    "    im.close()\n",
    "    \n",
    "print(set(image_sizes))"
   ]
  },
  {
   "cell_type": "code",
   "execution_count": 4,
   "metadata": {},
   "outputs": [
    {
     "data": {
      "text/plain": [
       "Counter({'RGB': 7346, 'RGBA': 3})"
      ]
     },
     "execution_count": 4,
     "metadata": {},
     "output_type": "execute_result"
    }
   ],
   "source": [
    "# 全画像のモードをチェック → 画像数が多すぎてチェックにかなりの時間を要するから動かさない方がよい\n",
    "from PIL import Image\n",
    "\n",
    "modes = list()\n",
    "for path in X:\n",
    "    im = Image.open(path)\n",
    "    modes.append(im.mode)\n",
    "    im.close()\n",
    "    \n",
    "import collections\n",
    "collections.Counter(modes)"
   ]
  },
  {
   "cell_type": "code",
   "execution_count": 3,
   "metadata": {},
   "outputs": [],
   "source": [
    "# 学習／テストへのデータセット分割\n",
    "from sklearn.model_selection import train_test_split\n",
    "X_train, X_test, y_train, y_test = train_test_split(X, y, test_size=0.2)"
   ]
  },
  {
   "cell_type": "code",
   "execution_count": 4,
   "metadata": {},
   "outputs": [
    {
     "name": "stdout",
     "output_type": "stream",
     "text": [
      "torch.Size([3, 50, 50]) 1\n",
      "<class 'torch.Tensor'>\n",
      "<class 'int'>\n"
     ]
    }
   ],
   "source": [
    "# Dataset クラスの定義\n",
    "\n",
    "import numpy as np\n",
    "from PIL import Image\n",
    "from pathlib import Path\n",
    "import torch\n",
    "# import torch.utils.data as data\n",
    "from torchvision import transforms\n",
    "\n",
    "# Transformer の定義\n",
    "transform = transforms.Compose([\n",
    "    transforms.Resize((50,50)), #50),\n",
    "    ### transforms.CenterCrop(224),\n",
    "    # transforms.Grayscale(num_output_channels=3), # ResNet 等に喰わせるため，あえて３チャネル\n",
    "    transforms.ToTensor(),\n",
    "    # transforms.Normalize(mean=[0.485, 0.456, 0.406], std=[0.229, 0.224, 0.225])\n",
    "])\n",
    "\n",
    "# Dataset : データソースから1個ずつデータを取り出すクラス\n",
    "# 実装が必要なメソッドは__getitem__と__len__の2つ\n",
    "# https://ohke.hateblo.jp/entry/2019/12/28/230000\n",
    "\n",
    "# (メモ) このデータセットで transform=None はあり得ない！！\n",
    "class MyDataset(torch.utils.data.Dataset):\n",
    "    def __init__(self, image_paths, labels, transform=None): #, input_size):\n",
    "        super().__init__()\n",
    "        \n",
    "        self.transform = transform\n",
    "        self.image_paths = image_paths\n",
    "        self.labels = labels\n",
    "        self.len = len(self.image_paths)\n",
    "        \n",
    "    def __len__(self):\n",
    "        return self.len\n",
    "    \n",
    "    def __getitem__(self, index):\n",
    "        image_path = self.image_paths[index]\n",
    "        label = self.labels[index]\n",
    "        \n",
    "        # 入力\n",
    "        image = Image.open(image_path)\n",
    "        \n",
    "        # covert RGBA to RGB\n",
    "        # Oxford-III Pet Dataset に少数ながら 'RGBA' が含まれるため，\n",
    "        # これを RGB へ変換する\n",
    "        if image.mode == 'RGBA':\n",
    "            image = image.convert('RGB')\n",
    "        \n",
    "        '''\n",
    "        if self.transform:\n",
    "            image = self.transform(image_array)\n",
    "        else:\n",
    "            image = torch.Tensor(np.transpose(image_array, (2, 0, 1)))/255  # for 0~1 scaling\n",
    "        '''\n",
    "        if self.transform:\n",
    "            image = self.transform(image)\n",
    "        else:\n",
    "            image = np.asarray(image)\n",
    "            image = torch.from_numpy(image)\n",
    "                \n",
    "        return image, label\n",
    "\n",
    "train_dataset = MyDataset(X_train, y_train, transform=transform) #, (224, 224))\n",
    "test_dataset = MyDataset(X_test, y_test, transform=transform) #, (224, 224))\n",
    "\n",
    "# 動作チェック\n",
    "image, label = train_dataset[0]\n",
    "print(image.size(), label)  # torch.Size([3, 256, 256]) 1\n",
    "print(type(image))\n",
    "print(type(label))"
   ]
  },
  {
   "cell_type": "code",
   "execution_count": 5,
   "metadata": {},
   "outputs": [
    {
     "name": "stdout",
     "output_type": "stream",
     "text": [
      "torch.Size([1024, 3, 50, 50])\n",
      "torch.Size([1024])\n"
     ]
    }
   ],
   "source": [
    "# DataLoader の定義\n",
    "\n",
    "BATCH_SIZE = 1024# 256 # 128 # 16\n",
    "\n",
    "trainloader = torch.utils.data.DataLoader(\n",
    "    train_dataset, batch_size=BATCH_SIZE, shuffle=True,\n",
    "    num_workers=4, drop_last=True\n",
    ")\n",
    "\n",
    "testloader = torch.utils.data.DataLoader(\n",
    "    test_dataset, batch_size=BATCH_SIZE, shuffle=False,\n",
    "    num_workers=4, drop_last=True\n",
    ")\n",
    "\n",
    "# 動作チェック\n",
    "images, labels = next(iter(trainloader))\n",
    "print(images.size())  # torch.Size([16, 3, 224, 224])\n",
    "print(labels.size())  # torch.Size([16])"
   ]
  },
  {
   "cell_type": "code",
   "execution_count": 6,
   "metadata": {},
   "outputs": [
    {
     "name": "stderr",
     "output_type": "stream",
     "text": [
      "device: cuda\n"
     ]
    },
    {
     "name": "stdout",
     "output_type": "stream",
     "text": [
      "ResNet(\n",
      "  (conv1): Conv2d(3, 64, kernel_size=(7, 7), stride=(2, 2), padding=(3, 3), bias=False)\n",
      "  (bn1): BatchNorm2d(64, eps=1e-05, momentum=0.1, affine=True, track_running_stats=True)\n",
      "  (relu): ReLU(inplace=True)\n",
      "  (maxpool): MaxPool2d(kernel_size=3, stride=2, padding=1, dilation=1, ceil_mode=False)\n",
      "  (layer1): Sequential(\n",
      "    (0): BasicBlock(\n",
      "      (conv1): Conv2d(64, 64, kernel_size=(3, 3), stride=(1, 1), padding=(1, 1), bias=False)\n",
      "      (bn1): BatchNorm2d(64, eps=1e-05, momentum=0.1, affine=True, track_running_stats=True)\n",
      "      (relu): ReLU(inplace=True)\n",
      "      (conv2): Conv2d(64, 64, kernel_size=(3, 3), stride=(1, 1), padding=(1, 1), bias=False)\n",
      "      (bn2): BatchNorm2d(64, eps=1e-05, momentum=0.1, affine=True, track_running_stats=True)\n",
      "    )\n",
      "    (1): BasicBlock(\n",
      "      (conv1): Conv2d(64, 64, kernel_size=(3, 3), stride=(1, 1), padding=(1, 1), bias=False)\n",
      "      (bn1): BatchNorm2d(64, eps=1e-05, momentum=0.1, affine=True, track_running_stats=True)\n",
      "      (relu): ReLU(inplace=True)\n",
      "      (conv2): Conv2d(64, 64, kernel_size=(3, 3), stride=(1, 1), padding=(1, 1), bias=False)\n",
      "      (bn2): BatchNorm2d(64, eps=1e-05, momentum=0.1, affine=True, track_running_stats=True)\n",
      "    )\n",
      "  )\n",
      "  (layer2): Sequential(\n",
      "    (0): BasicBlock(\n",
      "      (conv1): Conv2d(64, 128, kernel_size=(3, 3), stride=(2, 2), padding=(1, 1), bias=False)\n",
      "      (bn1): BatchNorm2d(128, eps=1e-05, momentum=0.1, affine=True, track_running_stats=True)\n",
      "      (relu): ReLU(inplace=True)\n",
      "      (conv2): Conv2d(128, 128, kernel_size=(3, 3), stride=(1, 1), padding=(1, 1), bias=False)\n",
      "      (bn2): BatchNorm2d(128, eps=1e-05, momentum=0.1, affine=True, track_running_stats=True)\n",
      "      (downsample): Sequential(\n",
      "        (0): Conv2d(64, 128, kernel_size=(1, 1), stride=(2, 2), bias=False)\n",
      "        (1): BatchNorm2d(128, eps=1e-05, momentum=0.1, affine=True, track_running_stats=True)\n",
      "      )\n",
      "    )\n",
      "    (1): BasicBlock(\n",
      "      (conv1): Conv2d(128, 128, kernel_size=(3, 3), stride=(1, 1), padding=(1, 1), bias=False)\n",
      "      (bn1): BatchNorm2d(128, eps=1e-05, momentum=0.1, affine=True, track_running_stats=True)\n",
      "      (relu): ReLU(inplace=True)\n",
      "      (conv2): Conv2d(128, 128, kernel_size=(3, 3), stride=(1, 1), padding=(1, 1), bias=False)\n",
      "      (bn2): BatchNorm2d(128, eps=1e-05, momentum=0.1, affine=True, track_running_stats=True)\n",
      "    )\n",
      "  )\n",
      "  (layer3): Sequential(\n",
      "    (0): BasicBlock(\n",
      "      (conv1): Conv2d(128, 256, kernel_size=(3, 3), stride=(2, 2), padding=(1, 1), bias=False)\n",
      "      (bn1): BatchNorm2d(256, eps=1e-05, momentum=0.1, affine=True, track_running_stats=True)\n",
      "      (relu): ReLU(inplace=True)\n",
      "      (conv2): Conv2d(256, 256, kernel_size=(3, 3), stride=(1, 1), padding=(1, 1), bias=False)\n",
      "      (bn2): BatchNorm2d(256, eps=1e-05, momentum=0.1, affine=True, track_running_stats=True)\n",
      "      (downsample): Sequential(\n",
      "        (0): Conv2d(128, 256, kernel_size=(1, 1), stride=(2, 2), bias=False)\n",
      "        (1): BatchNorm2d(256, eps=1e-05, momentum=0.1, affine=True, track_running_stats=True)\n",
      "      )\n",
      "    )\n",
      "    (1): BasicBlock(\n",
      "      (conv1): Conv2d(256, 256, kernel_size=(3, 3), stride=(1, 1), padding=(1, 1), bias=False)\n",
      "      (bn1): BatchNorm2d(256, eps=1e-05, momentum=0.1, affine=True, track_running_stats=True)\n",
      "      (relu): ReLU(inplace=True)\n",
      "      (conv2): Conv2d(256, 256, kernel_size=(3, 3), stride=(1, 1), padding=(1, 1), bias=False)\n",
      "      (bn2): BatchNorm2d(256, eps=1e-05, momentum=0.1, affine=True, track_running_stats=True)\n",
      "    )\n",
      "  )\n",
      "  (layer4): Sequential(\n",
      "    (0): BasicBlock(\n",
      "      (conv1): Conv2d(256, 512, kernel_size=(3, 3), stride=(2, 2), padding=(1, 1), bias=False)\n",
      "      (bn1): BatchNorm2d(512, eps=1e-05, momentum=0.1, affine=True, track_running_stats=True)\n",
      "      (relu): ReLU(inplace=True)\n",
      "      (conv2): Conv2d(512, 512, kernel_size=(3, 3), stride=(1, 1), padding=(1, 1), bias=False)\n",
      "      (bn2): BatchNorm2d(512, eps=1e-05, momentum=0.1, affine=True, track_running_stats=True)\n",
      "      (downsample): Sequential(\n",
      "        (0): Conv2d(256, 512, kernel_size=(1, 1), stride=(2, 2), bias=False)\n",
      "        (1): BatchNorm2d(512, eps=1e-05, momentum=0.1, affine=True, track_running_stats=True)\n",
      "      )\n",
      "    )\n",
      "    (1): BasicBlock(\n",
      "      (conv1): Conv2d(512, 512, kernel_size=(3, 3), stride=(1, 1), padding=(1, 1), bias=False)\n",
      "      (bn1): BatchNorm2d(512, eps=1e-05, momentum=0.1, affine=True, track_running_stats=True)\n",
      "      (relu): ReLU(inplace=True)\n",
      "      (conv2): Conv2d(512, 512, kernel_size=(3, 3), stride=(1, 1), padding=(1, 1), bias=False)\n",
      "      (bn2): BatchNorm2d(512, eps=1e-05, momentum=0.1, affine=True, track_running_stats=True)\n",
      "    )\n",
      "  )\n",
      "  (avgpool): AdaptiveAvgPool2d(output_size=(1, 1))\n",
      "  (fc): Linear(in_features=512, out_features=37, bias=True)\n",
      ")\n"
     ]
    }
   ],
   "source": [
    "'''\n",
    "とりあえず使わない\n",
    "'''\n",
    "# モデル / optimizer / criterion の定義\n",
    "\n",
    "import torch\n",
    "import torch.optim as optim\n",
    "import torch.nn as nn\n",
    "import torchvision.models as models\n",
    "\n",
    "# GPUあれば使う\n",
    "def check_cuda():\n",
    "    return 'cuda' if torch.cuda.is_available() else 'cpu'\n",
    "\n",
    "device = torch.device(check_cuda()) # \"cuda\"\n",
    "\n",
    "import sys\n",
    "print(\"device: {}\".format(device), file=sys.stderr)\n",
    "\n",
    "num_classes = 37 # クラス数\n",
    "\n",
    "# net = torch.hub.load('pytorch/vision:v0.6.0', 'resnet18', pretrained=True) #ResNet\n",
    "# net = torch.hub.load('pytorch/vision:v0.6.0', 'resnet101', pretrained=True) #ResNet\n",
    "\n",
    "# ResNet18\n",
    "net = models.resnet18(pretrained=True)\n",
    "num_features = net.fc.in_features\n",
    "net.fc = torch.nn.Linear(num_features, num_classes)\n",
    "\n",
    "# ResNet50\n",
    "'''\n",
    "net = models.resnet50(pretrained=True)\n",
    "num_features = net.fc.in_features\n",
    "net.fc = torch.nn.Linear(num_features, 3) # 3 : number of class (normal, pneumonia, COVID-19)\n",
    "'''\n",
    "\n",
    "# VGG16\n",
    "'''\n",
    "net = models.vgg16(pretrained=True)\n",
    "num_features = net.classifier[6].in_features # in_features = 4096\n",
    "net.classifier[6] = torch.nn.Linear(num_features, 3) # 3 : number of class (normal, pneumonia, COVID-19)\n",
    "'''\n",
    "\n",
    "# VGG19\n",
    "'''\n",
    "net = models.vgg19(pretrained=True)\n",
    "num_features = net.classifier[6].in_features # in_features = 4096\n",
    "net.classifier[6] = torch.nn.Linear(num_features, 3) # 3 : number of class (normal, pneumonia, COVID-19)\n",
    "'''\n",
    "\n",
    "# Inception v3\n",
    "# aux_logits の扱いについて：\n",
    "# https://discuss.pytorch.org/t/error-in-training-inception-v3/23933/7\n",
    "'''\n",
    "num_classes = 3 # 3 : number of class (normal, pneumonia, COVID-19)\n",
    "net = models.inception_v3(pretrained=True, aux_logits=False)\n",
    "#num_ftrs = net.AuxLogits.fc.in_features\n",
    "#net.AuxLogits.fc = nn.Linear(num_ftrs, num_classes)\n",
    "num_features = net.fc.in_features # in_features = 2048\n",
    "net.fc = torch.nn.Linear(num_features, num_classes)\n",
    "'''\n",
    "\n",
    "# SqueezeNet 1.1\n",
    "'''\n",
    "num_classes = 3 # 3 : number of class\n",
    "net = models.squeezenet1_1(pretrained=True)\n",
    "net.classifier[1] = nn.Conv2d(512, num_classes, kernel_size=(1,1), stride=(1,1))\n",
    "net.num_classes = num_classes\n",
    "'''\n",
    "\n",
    "net = net.to(device)\n",
    "criterion = nn.CrossEntropyLoss()\n",
    "optimizer = optim.SGD(net.parameters(), lr=0.0001, momentum=0.9, weight_decay=0.005)\n",
    "\n",
    "print(net)"
   ]
  },
  {
   "cell_type": "code",
   "execution_count": 6,
   "metadata": {},
   "outputs": [
    {
     "name": "stderr",
     "output_type": "stream",
     "text": [
      "device: cuda\n"
     ]
    },
    {
     "name": "stdout",
     "output_type": "stream",
     "text": [
      "Net(\n",
      "  (conv1): Conv2d(3, 32, kernel_size=(3, 3), stride=(1, 1))\n",
      "  (conv2): Conv2d(32, 64, kernel_size=(3, 3), stride=(1, 1))\n",
      "  (conv3): Conv2d(64, 128, kernel_size=(3, 3), stride=(1, 1))\n",
      "  (bn1): BatchNorm2d(32, eps=1e-05, momentum=0.1, affine=True, track_running_stats=True)\n",
      "  (bn2): BatchNorm2d(64, eps=1e-05, momentum=0.1, affine=True, track_running_stats=True)\n",
      "  (bn3): BatchNorm2d(128, eps=1e-05, momentum=0.1, affine=True, track_running_stats=True)\n",
      "  (pool): MaxPool2d(kernel_size=2, stride=2, padding=0, dilation=1, ceil_mode=False)\n",
      "  (avg): AvgPool2d(kernel_size=4, stride=4, padding=0)\n",
      "  (fc): Linear(in_features=128, out_features=2, bias=True)\n",
      ")\n"
     ]
    }
   ],
   "source": [
    "# モデル / optimizer / criterion の定義\n",
    "\n",
    "import torch\n",
    "import torch.optim as optim\n",
    "import torch.nn as nn\n",
    "import torch.nn.functional as F\n",
    "import torchvision.models as models\n",
    "\n",
    "# GPUあれば使う\n",
    "def check_cuda():\n",
    "    return 'cuda' if torch.cuda.is_available() else 'cpu'\n",
    "\n",
    "device = torch.device(check_cuda()) # \"cuda\"\n",
    "\n",
    "import sys\n",
    "print(\"device: {}\".format(device), file=sys.stderr)\n",
    "\n",
    "num_classes = 37 # クラス数\n",
    "\n",
    "\n",
    "class Net(nn.Module):\n",
    "    def __init__(self):\n",
    "        super().__init__()\n",
    "        \n",
    "        self.conv1 = nn.Conv2d(3, 32, kernel_size=3)\n",
    "        self.conv2 = nn.Conv2d(32, 64, kernel_size=3)\n",
    "        self.conv3 = nn.Conv2d(64, 128, kernel_size=3)\n",
    "        self.bn1 = nn.BatchNorm2d(32)\n",
    "        self.bn2 = nn.BatchNorm2d(64)\n",
    "        self.bn3 = nn.BatchNorm2d(128)\n",
    "        self.pool = nn.MaxPool2d(kernel_size=2, stride=2)\n",
    "        self.avg = nn.AvgPool2d(4)\n",
    "        self.fc = nn.Linear(128, 2)\n",
    "        \n",
    "    def forward(self, x):\n",
    "        x = self.pool(F.relu(self.bn1(self.conv1(x))))\n",
    "        x = self.pool(F.relu(self.bn2(self.conv2(x))))\n",
    "        x = self.pool(F.relu(self.bn3(self.conv3(x))))\n",
    "        # print(\"before avg:\", x.shape)\n",
    "        x = self.avg(x)\n",
    "        # print(\"before:\", x.shape)\n",
    "        x = x.view(-1, 128)\n",
    "        # print(\"after:\", x.shape)\n",
    "        x = self.fc(x)\n",
    "        \n",
    "        return x\n",
    "\n",
    "net = Net()\n",
    "net = net.to(device)\n",
    "criterion = nn.CrossEntropyLoss()\n",
    "# optimizer = optim.SGD(net.parameters(), lr=0.0001, momentum=0.9, weight_decay=0.005)\n",
    "optimizer = optim.Adam(net.parameters(), lr=0.0001)\n",
    "\n",
    "print(net)"
   ]
  },
  {
   "cell_type": "code",
   "execution_count": 7,
   "metadata": {
    "scrolled": false
   },
   "outputs": [
    {
     "name": "stdout",
     "output_type": "stream",
     "text": [
      "epoch 1\n"
     ]
    },
    {
     "name": "stderr",
     "output_type": "stream",
     "text": [
      "  0%|          | 0/216 [00:00<?, ?it/s]/home/muto/anaconda3/envs/py36/lib/python3.6/site-packages/torch/nn/functional.py:718: UserWarning: Named tensors and all their associated APIs are an experimental feature and subject to change. Please do not use them for anything important until they are released as stable. (Triggered internally at  /opt/conda/conda-bld/pytorch_1623448233824/work/c10/core/TensorImpl.h:1156.)\n",
      "  return torch.max_pool2d(input, kernel_size, stride, padding, dilation, ceil_mode)\n",
      "100%|██████████| 216/216 [00:21<00:00, 10.09it/s]\n"
     ]
    },
    {
     "name": "stdout",
     "output_type": "stream",
     "text": [
      "train mean loss=0.3496402414384175, accuracy=0.8507080078125\n",
      "test  mean loss=0.34811446122270095, accuracy=0.8525028935185185\n",
      "epoch 2\n"
     ]
    },
    {
     "name": "stderr",
     "output_type": "stream",
     "text": [
      "100%|██████████| 216/216 [00:22<00:00,  9.75it/s]\n"
     ]
    },
    {
     "name": "stdout",
     "output_type": "stream",
     "text": [
      "train mean loss=0.33263839542919715, accuracy=0.8565221715856481\n",
      "test  mean loss=0.33257716798898324, accuracy=0.85693359375\n",
      "epoch 3\n"
     ]
    },
    {
     "name": "stderr",
     "output_type": "stream",
     "text": [
      "100%|██████████| 216/216 [00:22<00:00,  9.66it/s]\n"
     ]
    },
    {
     "name": "stdout",
     "output_type": "stream",
     "text": [
      "train mean loss=0.3334320932812637, accuracy=0.859375\n",
      "test  mean loss=0.3328615628967478, accuracy=0.8598090277777778\n",
      "epoch 4\n"
     ]
    },
    {
     "name": "stderr",
     "output_type": "stream",
     "text": [
      "100%|██████████| 216/216 [00:22<00:00,  9.67it/s]\n"
     ]
    },
    {
     "name": "stdout",
     "output_type": "stream",
     "text": [
      "train mean loss=0.33939624815397096, accuracy=0.8509837962962963\n",
      "test  mean loss=0.33942356025428455, accuracy=0.8540219907407407\n",
      "epoch 5\n"
     ]
    },
    {
     "name": "stderr",
     "output_type": "stream",
     "text": [
      "100%|██████████| 216/216 [00:22<00:00,  9.59it/s]\n"
     ]
    },
    {
     "name": "stdout",
     "output_type": "stream",
     "text": [
      "train mean loss=0.32618585401611006, accuracy=0.861328125\n",
      "test  mean loss=0.3276805105536663, accuracy=0.8616898148148148\n",
      "epoch 6\n"
     ]
    },
    {
     "name": "stderr",
     "output_type": "stream",
     "text": [
      "100%|██████████| 216/216 [00:22<00:00,  9.66it/s]\n"
     ]
    },
    {
     "name": "stdout",
     "output_type": "stream",
     "text": [
      "train mean loss=0.3080771406894476, accuracy=0.8685438368055556\n",
      "test  mean loss=0.3108269626434274, accuracy=0.8685980902777778\n",
      "epoch 7\n"
     ]
    },
    {
     "name": "stderr",
     "output_type": "stream",
     "text": [
      "100%|██████████| 216/216 [00:22<00:00,  9.50it/s]\n"
     ]
    },
    {
     "name": "stdout",
     "output_type": "stream",
     "text": [
      "train mean loss=0.30114217085191397, accuracy=0.8720477068865741\n",
      "test  mean loss=0.30405113220902114, accuracy=0.8719075520833334\n",
      "epoch 8\n"
     ]
    },
    {
     "name": "stderr",
     "output_type": "stream",
     "text": [
      "100%|██████████| 216/216 [00:23<00:00,  9.32it/s]\n"
     ]
    },
    {
     "name": "stdout",
     "output_type": "stream",
     "text": [
      "train mean loss=0.29678819412982566, accuracy=0.8737476490162037\n",
      "test  mean loss=0.30018431726484385, accuracy=0.8734266493055556\n",
      "epoch 9\n"
     ]
    },
    {
     "name": "stderr",
     "output_type": "stream",
     "text": [
      "100%|██████████| 216/216 [00:22<00:00,  9.54it/s]\n"
     ]
    },
    {
     "name": "stdout",
     "output_type": "stream",
     "text": [
      "train mean loss=0.29639175550638225, accuracy=0.8748734085648148\n",
      "test  mean loss=0.29986980009719, accuracy=0.8738064236111112\n",
      "epoch 10\n"
     ]
    },
    {
     "name": "stderr",
     "output_type": "stream",
     "text": [
      "100%|██████████| 216/216 [00:22<00:00,  9.64it/s]\n"
     ]
    },
    {
     "name": "stdout",
     "output_type": "stream",
     "text": [
      "train mean loss=0.2951571859407567, accuracy=0.8746021412037037\n",
      "test  mean loss=0.29964959629376015, accuracy=0.8730287905092593\n",
      "epoch 11\n"
     ]
    },
    {
     "name": "stderr",
     "output_type": "stream",
     "text": [
      "100%|██████████| 216/216 [00:22<00:00,  9.66it/s]\n"
     ]
    },
    {
     "name": "stdout",
     "output_type": "stream",
     "text": [
      "train mean loss=0.30474660694025973, accuracy=0.8702302155671297\n",
      "test  mean loss=0.30920117268872876, accuracy=0.8680374710648148\n",
      "epoch 12\n"
     ]
    },
    {
     "name": "stderr",
     "output_type": "stream",
     "text": [
      "100%|██████████| 216/216 [00:22<00:00,  9.69it/s]\n"
     ]
    },
    {
     "name": "stdout",
     "output_type": "stream",
     "text": [
      "train mean loss=0.2977573453417046, accuracy=0.8733904803240741\n",
      "test  mean loss=0.30368171419047973, accuracy=0.8713650173611112\n",
      "epoch 13\n"
     ]
    },
    {
     "name": "stderr",
     "output_type": "stream",
     "text": [
      "100%|██████████| 216/216 [00:22<00:00,  9.61it/s]\n"
     ]
    },
    {
     "name": "stdout",
     "output_type": "stream",
     "text": [
      "train mean loss=0.3043966445351383, accuracy=0.8701850043402778\n",
      "test  mean loss=0.3098981770188215, accuracy=0.8686704282407407\n",
      "epoch 14\n"
     ]
    },
    {
     "name": "stderr",
     "output_type": "stream",
     "text": [
      "100%|██████████| 216/216 [00:22<00:00,  9.59it/s]\n"
     ]
    },
    {
     "name": "stdout",
     "output_type": "stream",
     "text": [
      "train mean loss=0.2966673229730356, accuracy=0.8765100549768519\n",
      "test  mean loss=0.3042235047051997, accuracy=0.8736074942129629\n",
      "epoch 15\n"
     ]
    },
    {
     "name": "stderr",
     "output_type": "stream",
     "text": [
      "100%|██████████| 216/216 [00:22<00:00,  9.59it/s]\n"
     ]
    },
    {
     "name": "stdout",
     "output_type": "stream",
     "text": [
      "train mean loss=0.29208527553580804, accuracy=0.8772922092013888\n",
      "test  mean loss=0.2986994409419408, accuracy=0.8739510995370371\n",
      "epoch 16\n"
     ]
    },
    {
     "name": "stderr",
     "output_type": "stream",
     "text": [
      "100%|██████████| 216/216 [00:22<00:00,  9.60it/s]\n"
     ]
    },
    {
     "name": "stdout",
     "output_type": "stream",
     "text": [
      "train mean loss=0.2864399013772118, accuracy=0.8779296875\n",
      "test  mean loss=0.2945364160780842, accuracy=0.8753436053240741\n",
      "epoch 17\n"
     ]
    },
    {
     "name": "stderr",
     "output_type": "stream",
     "text": [
      "100%|██████████| 216/216 [00:22<00:00,  9.51it/s]\n"
     ]
    },
    {
     "name": "stdout",
     "output_type": "stream",
     "text": [
      "train mean loss=0.30242268619777296, accuracy=0.8721155237268519\n",
      "test  mean loss=0.31112456140019057, accuracy=0.8678385416666666\n",
      "epoch 18\n"
     ]
    },
    {
     "name": "stderr",
     "output_type": "stream",
     "text": [
      "100%|██████████| 216/216 [00:22<00:00,  9.61it/s]\n"
     ]
    },
    {
     "name": "stdout",
     "output_type": "stream",
     "text": [
      "train mean loss=0.2831520544923098, accuracy=0.8800320095486112\n",
      "test  mean loss=0.2925266066216937, accuracy=0.8768446180555556\n",
      "epoch 19\n"
     ]
    },
    {
     "name": "stderr",
     "output_type": "stream",
     "text": [
      "100%|██████████| 216/216 [00:22<00:00,  9.43it/s]\n"
     ]
    },
    {
     "name": "stdout",
     "output_type": "stream",
     "text": [
      "train mean loss=0.2811895920500206, accuracy=0.8800998263888888\n",
      "test  mean loss=0.2906503361051721, accuracy=0.8762839988425926\n",
      "epoch 20\n"
     ]
    },
    {
     "name": "stderr",
     "output_type": "stream",
     "text": [
      "100%|██████████| 216/216 [00:22<00:00,  9.55it/s]\n"
     ]
    },
    {
     "name": "stdout",
     "output_type": "stream",
     "text": [
      "train mean loss=0.29187141812849227, accuracy=0.8772967303240741\n",
      "test  mean loss=0.30229420656342193, accuracy=0.8742947048611112\n",
      "epoch 21\n"
     ]
    },
    {
     "name": "stderr",
     "output_type": "stream",
     "text": [
      "100%|██████████| 216/216 [00:22<00:00,  9.61it/s]\n"
     ]
    },
    {
     "name": "stdout",
     "output_type": "stream",
     "text": [
      "train mean loss=0.2815838876843425, accuracy=0.8814290364583334\n",
      "test  mean loss=0.29104704702666145, accuracy=0.8766818576388888\n",
      "epoch 22\n"
     ]
    },
    {
     "name": "stderr",
     "output_type": "stream",
     "text": [
      "100%|██████████| 216/216 [00:22<00:00,  9.63it/s]\n"
     ]
    },
    {
     "name": "stdout",
     "output_type": "stream",
     "text": [
      "train mean loss=0.28087537957759245, accuracy=0.8814606843171297\n",
      "test  mean loss=0.2926250029250251, accuracy=0.8773690682870371\n",
      "epoch 23\n"
     ]
    },
    {
     "name": "stderr",
     "output_type": "stream",
     "text": [
      "100%|██████████| 216/216 [00:22<00:00,  9.59it/s]\n"
     ]
    },
    {
     "name": "stdout",
     "output_type": "stream",
     "text": [
      "train mean loss=0.2811316091464204, accuracy=0.8818449797453703\n",
      "test  mean loss=0.2934783443460893, accuracy=0.8771701388888888\n",
      "epoch 24\n"
     ]
    },
    {
     "name": "stderr",
     "output_type": "stream",
     "text": [
      "100%|██████████| 216/216 [00:22<00:00,  9.67it/s]\n"
     ]
    },
    {
     "name": "stdout",
     "output_type": "stream",
     "text": [
      "train mean loss=0.3251104885906443, accuracy=0.86376953125\n",
      "test  mean loss=0.335818658761211, accuracy=0.8586516203703703\n",
      "epoch 25\n"
     ]
    },
    {
     "name": "stderr",
     "output_type": "stream",
     "text": [
      "100%|██████████| 216/216 [00:22<00:00,  9.63it/s]\n"
     ]
    },
    {
     "name": "stdout",
     "output_type": "stream",
     "text": [
      "train mean loss=0.27833017515709524, accuracy=0.8821524160879629\n",
      "test  mean loss=0.2913971191934074, accuracy=0.8780924479166666\n",
      "epoch 26\n"
     ]
    },
    {
     "name": "stderr",
     "output_type": "stream",
     "text": [
      "100%|██████████| 216/216 [00:22<00:00,  9.57it/s]\n"
     ]
    },
    {
     "name": "stdout",
     "output_type": "stream",
     "text": [
      "train mean loss=0.27866448056658705, accuracy=0.8825050636574074\n",
      "test  mean loss=0.29142265488205593, accuracy=0.8766095196759259\n",
      "epoch 27\n"
     ]
    },
    {
     "name": "stderr",
     "output_type": "stream",
     "text": [
      "100%|██████████| 216/216 [00:22<00:00,  9.66it/s]\n"
     ]
    },
    {
     "name": "stdout",
     "output_type": "stream",
     "text": [
      "train mean loss=0.2807289843007964, accuracy=0.8804615162037037\n",
      "test  mean loss=0.293908404401912, accuracy=0.8759765625\n",
      "epoch 28\n"
     ]
    },
    {
     "name": "stderr",
     "output_type": "stream",
     "text": [
      "100%|██████████| 216/216 [00:22<00:00,  9.66it/s]\n"
     ]
    },
    {
     "name": "stdout",
     "output_type": "stream",
     "text": [
      "train mean loss=0.2921859737568385, accuracy=0.8776403356481481\n",
      "test  mean loss=0.3073166120354093, accuracy=0.8727575231481481\n",
      "epoch 29\n"
     ]
    },
    {
     "name": "stderr",
     "output_type": "stream",
     "text": [
      "100%|██████████| 216/216 [00:22<00:00,  9.60it/s]\n"
     ]
    },
    {
     "name": "stdout",
     "output_type": "stream",
     "text": [
      "train mean loss=0.3455543259135919, accuracy=0.8520553023726852\n",
      "test  mean loss=0.3574071465091827, accuracy=0.8470413773148148\n",
      "epoch 30\n"
     ]
    },
    {
     "name": "stderr",
     "output_type": "stream",
     "text": [
      "100%|██████████| 216/216 [00:22<00:00,  9.62it/s]\n"
     ]
    },
    {
     "name": "stdout",
     "output_type": "stream",
     "text": [
      "train mean loss=0.27878397662551807, accuracy=0.8841145833333334\n",
      "test  mean loss=0.29255137201709025, accuracy=0.8769712094907407\n",
      "epoch 31\n"
     ]
    },
    {
     "name": "stderr",
     "output_type": "stream",
     "text": [
      "100%|██████████| 216/216 [00:22<00:00,  9.66it/s]\n"
     ]
    },
    {
     "name": "stdout",
     "output_type": "stream",
     "text": [
      "train mean loss=0.28248058028357703, accuracy=0.8824101200810185\n",
      "test  mean loss=0.2968037464996467, accuracy=0.8758861400462963\n",
      "epoch 32\n"
     ]
    },
    {
     "name": "stderr",
     "output_type": "stream",
     "text": [
      "100%|██████████| 216/216 [00:22<00:00,  9.64it/s]\n"
     ]
    },
    {
     "name": "stdout",
     "output_type": "stream",
     "text": [
      "train mean loss=0.2876732081455532, accuracy=0.8801721643518519\n",
      "test  mean loss=0.30276408434751795, accuracy=0.8739149305555556\n",
      "epoch 33\n"
     ]
    },
    {
     "name": "stderr",
     "output_type": "stream",
     "text": [
      "100%|██████████| 216/216 [00:22<00:00,  9.59it/s]\n"
     ]
    },
    {
     "name": "stdout",
     "output_type": "stream",
     "text": [
      "train mean loss=0.26832262839626847, accuracy=0.8876274956597222\n",
      "test  mean loss=0.28442668387314485, accuracy=0.8795753761574074\n",
      "epoch 34\n"
     ]
    },
    {
     "name": "stderr",
     "output_type": "stream",
     "text": [
      "100%|██████████| 216/216 [00:22<00:00,  9.60it/s]\n"
     ]
    },
    {
     "name": "stdout",
     "output_type": "stream",
     "text": [
      "train mean loss=0.281014479234485, accuracy=0.8839744285300926\n",
      "test  mean loss=0.29934679242192425, accuracy=0.8779477719907407\n",
      "epoch 35\n"
     ]
    },
    {
     "name": "stderr",
     "output_type": "stream",
     "text": [
      "100%|██████████| 216/216 [00:22<00:00,  9.60it/s]\n"
     ]
    },
    {
     "name": "stdout",
     "output_type": "stream",
     "text": [
      "train mean loss=0.26551353927400007, accuracy=0.8884865089699074\n",
      "test  mean loss=0.28259615920898173, accuracy=0.8804976851851852\n",
      "epoch 36\n"
     ]
    },
    {
     "name": "stderr",
     "output_type": "stream",
     "text": [
      "100%|██████████| 216/216 [00:22<00:00,  9.61it/s]\n"
     ]
    },
    {
     "name": "stdout",
     "output_type": "stream",
     "text": [
      "train mean loss=0.27042769731113686, accuracy=0.8863751446759259\n",
      "test  mean loss=0.288991545599953, accuracy=0.8781286168981481\n",
      "epoch 37\n"
     ]
    },
    {
     "name": "stderr",
     "output_type": "stream",
     "text": [
      "100%|██████████| 216/216 [00:22<00:00,  9.63it/s]\n"
     ]
    },
    {
     "name": "stdout",
     "output_type": "stream",
     "text": [
      "train mean loss=0.2663619448940524, accuracy=0.8886447482638888\n",
      "test  mean loss=0.2854170151588434, accuracy=0.8804072627314815\n",
      "epoch 38\n"
     ]
    },
    {
     "name": "stderr",
     "output_type": "stream",
     "text": [
      "100%|██████████| 216/216 [00:22<00:00,  9.64it/s]\n"
     ]
    },
    {
     "name": "stdout",
     "output_type": "stream",
     "text": [
      "train mean loss=0.2840737869582759, accuracy=0.8841145833333334\n",
      "test  mean loss=0.30142767064024356, accuracy=0.8755244502314815\n",
      "epoch 39\n"
     ]
    },
    {
     "name": "stderr",
     "output_type": "stream",
     "text": [
      "100%|██████████| 216/216 [00:22<00:00,  9.59it/s]\n"
     ]
    },
    {
     "name": "stdout",
     "output_type": "stream",
     "text": [
      "train mean loss=0.26508567848236664, accuracy=0.8875189887152778\n",
      "test  mean loss=0.28410152500249836, accuracy=0.8796657986111112\n",
      "epoch 40\n"
     ]
    },
    {
     "name": "stderr",
     "output_type": "stream",
     "text": [
      "100%|██████████| 216/216 [00:22<00:00,  9.51it/s]\n"
     ]
    },
    {
     "name": "stdout",
     "output_type": "stream",
     "text": [
      "train mean loss=0.2692013414260505, accuracy=0.8858913845486112\n",
      "test  mean loss=0.28913899545314753, accuracy=0.8788158275462963\n",
      "epoch 41\n"
     ]
    },
    {
     "name": "stderr",
     "output_type": "stream",
     "text": [
      "100%|██████████| 216/216 [00:22<00:00,  9.58it/s]\n"
     ]
    },
    {
     "name": "stdout",
     "output_type": "stream",
     "text": [
      "train mean loss=0.26891382212673626, accuracy=0.8890064380787037\n",
      "test  mean loss=0.28768743967410737, accuracy=0.8807327835648148\n",
      "epoch 42\n"
     ]
    },
    {
     "name": "stderr",
     "output_type": "stream",
     "text": [
      "100%|██████████| 216/216 [00:22<00:00,  9.51it/s]\n"
     ]
    },
    {
     "name": "stdout",
     "output_type": "stream",
     "text": [
      "train mean loss=0.26623916449003504, accuracy=0.8871934678819444\n",
      "test  mean loss=0.2867893849565214, accuracy=0.8786530671296297\n",
      "epoch 43\n"
     ]
    },
    {
     "name": "stderr",
     "output_type": "stream",
     "text": [
      "100%|██████████| 216/216 [00:22<00:00,  9.63it/s]\n"
     ]
    },
    {
     "name": "stdout",
     "output_type": "stream",
     "text": [
      "train mean loss=0.30127625581392037, accuracy=0.8705873842592593\n",
      "test  mean loss=0.32058068356120084, accuracy=0.8640950520833334\n",
      "epoch 44\n"
     ]
    },
    {
     "name": "stderr",
     "output_type": "stream",
     "text": [
      "100%|██████████| 216/216 [00:22<00:00,  9.57it/s]\n"
     ]
    },
    {
     "name": "stdout",
     "output_type": "stream",
     "text": [
      "train mean loss=0.2710299425452995, accuracy=0.8850188078703703\n",
      "test  mean loss=0.29342954206247607, accuracy=0.8759765625\n",
      "epoch 45\n"
     ]
    },
    {
     "name": "stderr",
     "output_type": "stream",
     "text": [
      "100%|██████████| 216/216 [00:22<00:00,  9.60it/s]\n"
     ]
    },
    {
     "name": "stdout",
     "output_type": "stream",
     "text": [
      "train mean loss=0.2632133276295601, accuracy=0.8891013816550926\n",
      "test  mean loss=0.2853698933900944, accuracy=0.8795572916666666\n",
      "epoch 46\n"
     ]
    },
    {
     "name": "stderr",
     "output_type": "stream",
     "text": [
      "100%|██████████| 216/216 [00:22<00:00,  9.61it/s]\n"
     ]
    },
    {
     "name": "stdout",
     "output_type": "stream",
     "text": [
      "train mean loss=0.25846203800274764, accuracy=0.8918728298611112\n",
      "test  mean loss=0.2812952394711414, accuracy=0.8811125578703703\n",
      "epoch 47\n"
     ]
    },
    {
     "name": "stderr",
     "output_type": "stream",
     "text": [
      "100%|██████████| 216/216 [00:22<00:00,  9.57it/s]\n"
     ]
    },
    {
     "name": "stdout",
     "output_type": "stream",
     "text": [
      "train mean loss=0.28056475096426853, accuracy=0.8800817418981481\n",
      "test  mean loss=0.3035661157708202, accuracy=0.8729564525462963\n",
      "epoch 48\n"
     ]
    },
    {
     "name": "stderr",
     "output_type": "stream",
     "text": [
      "100%|██████████| 216/216 [00:22<00:00,  9.59it/s]\n"
     ]
    },
    {
     "name": "stdout",
     "output_type": "stream",
     "text": [
      "train mean loss=0.2895750996164655, accuracy=0.8810989945023148\n",
      "test  mean loss=0.3111024021361392, accuracy=0.8702256944444444\n",
      "epoch 49\n"
     ]
    },
    {
     "name": "stderr",
     "output_type": "stream",
     "text": [
      "100%|██████████| 216/216 [00:22<00:00,  9.54it/s]\n"
     ]
    },
    {
     "name": "stdout",
     "output_type": "stream",
     "text": [
      "train mean loss=0.2600447658791924, accuracy=0.8912896050347222\n",
      "test  mean loss=0.28376936201640757, accuracy=0.87939453125\n",
      "epoch 50\n"
     ]
    },
    {
     "name": "stderr",
     "output_type": "stream",
     "text": [
      "100%|██████████| 216/216 [00:22<00:00,  9.53it/s]\n"
     ]
    },
    {
     "name": "stdout",
     "output_type": "stream",
     "text": [
      "train mean loss=0.2545465983931001, accuracy=0.8930980541087963\n",
      "test  mean loss=0.2796995115713991, accuracy=0.8820710358796297\n"
     ]
    }
   ],
   "source": [
    "from tqdm import tqdm\n",
    "\n",
    "# 学習\n",
    "# https://qiita.com/mathlive/items/8e1f9a8467fff8dfd03c\n",
    "\n",
    "EPOCH = 50 # 30\n",
    "\n",
    "train_loss_value=[]      #trainingのlossを保持するlist\n",
    "train_acc_value=[]       #trainingのaccuracyを保持するlist\n",
    "test_loss_value=[]       #tes%MCEPASTEBIN%tのlossを保持するlist\n",
    "test_acc_value=[]        #testのaccuracyを保持するlist \n",
    "\n",
    "for epoch in range(EPOCH):\n",
    "    print('epoch', epoch+1)    #epoch数の出力\n",
    "\n",
    "    # 学習\n",
    "    net.train() # 学習モード\n",
    "    for (inputs, labels) in tqdm(trainloader):\n",
    "        # print(\"inputs\", inputs.shape)\n",
    "        # print(\"labels\", labels.shape)\n",
    "        inputs, labels = inputs.to(device), labels.to(device)\n",
    "        optimizer.zero_grad()\n",
    "        outputs = net(inputs)\n",
    "        loss = criterion(outputs, labels)\n",
    "        loss.backward()\n",
    "        optimizer.step()\n",
    "\n",
    "    #train dataを使ってテストをする(パラメータ更新がないようになっている)\n",
    "    sum_loss = 0.0          #lossの合計\n",
    "    sum_correct = 0         #正解率の合計\n",
    "    sum_total = 0           #dataの数の合計\n",
    "\n",
    "    net.eval() # 評価モード\n",
    "    for (inputs, labels) in trainloader:\n",
    "        inputs, labels = inputs.to(device), labels.to(device)\n",
    "        optimizer.zero_grad()\n",
    "        outputs = net(inputs)\n",
    "        loss = criterion(outputs, labels)\n",
    "        sum_loss += loss.item()                            #lossを足していく\n",
    "        _, predicted = outputs.max(1)                      #出力の最大値の添字(予想位置)を取得\n",
    "        sum_total += labels.size(0)                        #labelの数を足していくことでデータの総和を取る\n",
    "        sum_correct += (predicted == labels).sum().item()  #予想位置と実際の正解を比べ,正解している数だけ足す\n",
    "    print(\"train mean loss={}, accuracy={}\"\n",
    "            .format(sum_loss*BATCH_SIZE/len(trainloader.dataset), float(sum_correct/sum_total)))  #lossとaccuracy出力\n",
    "    train_loss_value.append(sum_loss*BATCH_SIZE/len(trainloader.dataset))  #traindataのlossをグラフ描画のためにlistに保持\n",
    "    train_acc_value.append(float(sum_correct/sum_total))   #traindataのaccuracyをグラフ描画のためにlistに保持\n",
    "\n",
    "    '''\n",
    "    with open(\"/home/muto/Dropbox/20201230.txt\", 'a') as fp:\n",
    "        print('epoch{}'.format(epoch+1), file=fp)\n",
    "        print(\"train  mean loss={}, accuracy={}\"\n",
    "              .format(sum_loss*BATCH_SIZE/len(trainloader.dataset), float(sum_correct/sum_total)), file=fp)\n",
    "    '''\n",
    "        \n",
    "    #test dataを使ってテストをする\n",
    "    sum_loss = 0.0\n",
    "    sum_correct = 0\n",
    "    sum_total = 0\n",
    "\n",
    "    cm_predicted_list = [] # confusion matrix で利用するため予測値を蓄える\n",
    "    cm_true_list = [] # confusion matrix で利用するため真値を蓄える\n",
    "    \n",
    "    net.eval() # 評価モード\n",
    "    for (inputs, labels) in testloader:\n",
    "        inputs, labels = inputs.to(device), labels.to(device)\n",
    "        optimizer.zero_grad()\n",
    "        outputs = net(inputs)\n",
    "        loss = criterion(outputs, labels)\n",
    "        sum_loss += loss.item()\n",
    "        _, predicted = outputs.max(1)\n",
    "        sum_total += labels.size(0)\n",
    "        sum_correct += (predicted == labels).sum().item()\n",
    "        \n",
    "        # confusion matrix のため予測値／真値を蓄える\n",
    "        cm_predicted_list += predicted.tolist()\n",
    "        cm_true_list += labels.tolist()\n",
    "    print(\"test  mean loss={}, accuracy={}\"\n",
    "            .format(sum_loss*BATCH_SIZE/len(testloader.dataset), float(sum_correct/sum_total)))\n",
    "    test_loss_value.append(sum_loss*BATCH_SIZE/len(testloader.dataset))\n",
    "    test_acc_value.append(float(sum_correct/sum_total))\n",
    "\n",
    "    '''\n",
    "    with open(\"/home/muto/Dropbox/20201230.txt\", 'a') as fp:\n",
    "        print(\"test  mean loss={}, accuracy={}\"\n",
    "              .format(sum_loss*BATCH_SIZE/len(testloader.dataset), float(sum_correct/sum_total)), file=fp)\n",
    "    '''"
   ]
  },
  {
   "cell_type": "code",
   "execution_count": 8,
   "metadata": {},
   "outputs": [
    {
     "data": {
      "image/png": "[encoded data removed]",
      "text/plain": [
       "<Figure size 216x216 with 1 Axes>"
      ]
     },
     "metadata": {
      "needs_background": "light"
     },
     "output_type": "display_data"
    }
   ],
   "source": [
    "# 損失の可視化\n",
    "import matplotlib.pyplot as plt\n",
    "\n",
    "plt.figure(figsize=(3, 3))\n",
    "\n",
    "plt.plot(range(EPOCH), train_loss_value)\n",
    "plt.plot(range(EPOCH), test_loss_value, c='#00ff00')\n",
    "plt.xlim(0, EPOCH)\n",
    "# plt.ylim(0, 2.5)\n",
    "plt.xlabel('EPOCH')\n",
    "plt.ylabel('LOSS')\n",
    "plt.legend(['train loss', 'test loss'])\n",
    "plt.title('loss')\n",
    "plt.savefig(\"loss_image.png\")"
   ]
  },
  {
   "cell_type": "code",
   "execution_count": 9,
   "metadata": {},
   "outputs": [
    {
     "data": {
      "image/png": "[encoded data removed]",
      "text/plain": [
       "<Figure size 216x216 with 1 Axes>"
      ]
     },
     "metadata": {
      "needs_background": "light"
     },
     "output_type": "display_data"
    }
   ],
   "source": [
    "# 正解率の可視化\n",
    "import matplotlib.pyplot as plt\n",
    "\n",
    "plt.figure(figsize=(3, 3))\n",
    "\n",
    "plt.plot(range(EPOCH), train_acc_value)\n",
    "plt.plot(range(EPOCH), test_acc_value, c='#00ff00')\n",
    "plt.xlim(0, EPOCH)\n",
    "# plt.ylim(0, 1)\n",
    "plt.xlabel('EPOCH')\n",
    "plt.ylabel('ACCURACY')\n",
    "plt.legend(['train acc', 'test acc'])\n",
    "plt.title('accuracy')\n",
    "plt.savefig(\"accuracy_image.png\")"
   ]
  },
  {
   "cell_type": "code",
   "execution_count": 10,
   "metadata": {},
   "outputs": [
    {
     "data": {
      "text/plain": [
       "<sklearn.metrics._plot.confusion_matrix.ConfusionMatrixDisplay at 0x7fcd9060f518>"
      ]
     },
     "execution_count": 10,
     "metadata": {},
     "output_type": "execute_result"
    },
    {
     "data": {
      "image/png": "[encoded data removed]",
      "text/plain": [
       "<Figure size 288x288 with 2 Axes>"
      ]
     },
     "metadata": {
      "needs_background": "light"
     },
     "output_type": "display_data"
    }
   ],
   "source": [
    "# confusion matrix\n",
    "from sklearn.metrics import confusion_matrix, ConfusionMatrixDisplay\n",
    "\n",
    "cm = confusion_matrix(cm_true_list, cm_predicted_list)\n",
    "cmp = ConfusionMatrixDisplay(cm) #, display_labels=class_names)\n",
    "\n",
    "fig, ax = plt.subplots(figsize=(4,4))\n",
    "ax.set_title('Invasive Ductal Carcinoma')\n",
    "cmp.plot(cmap=plt.cm.Blues, xticks_rotation='horizontal', ax=ax)"
   ]
  },
  {
   "cell_type": "code",
   "execution_count": null,
   "metadata": {},
   "outputs": [],
   "source": []
  }
 ],
 "metadata": {
  "kernelspec": {
   "display_name": "Python 3",
   "language": "python",
   "name": "python3"
  },
  "language_info": {
   "codemirror_mode": {
    "name": "ipython",
    "version": 3
   },
   "file_extension": ".py",
   "mimetype": "text/x-python",
   "name": "python",
   "nbconvert_exporter": "python",
   "pygments_lexer": "ipython3",
   "version": "3.6.10"
  }
 },
 "nbformat": 4,
 "nbformat_minor": 5
}
